{
 "cells": [
  {
   "cell_type": "code",
   "execution_count": 9,
   "id": "fcb51bca-3abc-403c-af28-c7ee5f74ba19",
   "metadata": {},
   "outputs": [],
   "source": [
    "\n",
    "from typing import Tuple\n",
    "import json\n",
    "from opensearchpy import OpenSearch\n",
    "from opensearchpy.helpers import bulk\n",
    "from loguru import logger"
   ]
  },
  {
   "cell_type": "code",
   "execution_count": 10,
   "id": "ef2f1c03-ab0a-498f-80f3-9f12de3ca5d7",
   "metadata": {},
   "outputs": [],
   "source": [
    "def get_opensearch(host: str='localhost', \n",
    "                   port: int=9200, \n",
    "                   auth: Tuple[str, str]=('admin', 'admin')\n",
    "                   ) -> OpenSearch:\n",
    "\n",
    "    #### Step 2.a: Create a connection to OpenSearch\n",
    "    client = OpenSearch(\n",
    "    hosts=[{'host': host, 'port': port}],\n",
    "    http_compress=True,  # enables gzip compression for request bodies\n",
    "    http_auth=auth,\n",
    "    # client_cert = client_cert_path,\n",
    "    # client_key = client_key_path,\n",
    "    use_ssl=False,\n",
    "    verify_certs=False,\n",
    "    ssl_assert_hostname=False,\n",
    "    ssl_show_warn=False)\n",
    "\n",
    "    return client"
   ]
  },
  {
   "cell_type": "code",
   "execution_count": 11,
   "id": "3eefd245-0004-484c-b48d-37ff85cdbde3",
   "metadata": {},
   "outputs": [],
   "source": [
    "client = get_opensearch()"
   ]
  },
  {
   "cell_type": "code",
   "execution_count": 12,
   "id": "8dbc8f16-7678-42ef-9aad-b577f530bd86",
   "metadata": {},
   "outputs": [
    {
     "data": {
      "text/plain": [
       "True"
      ]
     },
     "execution_count": 12,
     "metadata": {},
     "output_type": "execute_result"
    }
   ],
   "source": [
    "client.ping()"
   ]
  },
  {
   "cell_type": "markdown",
   "id": "df99a637-5952-424a-94b7-2be0815643f2",
   "metadata": {},
   "source": [
    "## Indexing"
   ]
  },
  {
   "cell_type": "code",
   "execution_count": 17,
   "id": "731413e8-0fc0-43d2-af24-f63a7b00168c",
   "metadata": {},
   "outputs": [],
   "source": [
    "mapping_path = '/Users/americanthinker/Training/search_fundamentals_course/opensearch/bbuy_products.json'\n",
    "def get_mapping(file_path: str=mapping_path):\n",
    "    with open(file_path) as f:\n",
    "        mapping = json.load(f)\n",
    "        return mapping"
   ]
  },
  {
   "cell_type": "code",
   "execution_count": 63,
   "id": "6afc347f-1666-4203-aba7-429661b3c71d",
   "metadata": {},
   "outputs": [
    {
     "data": {
      "text/plain": [
       "{'settings': {'index.refresh_interval': '5s'},\n",
       " 'mappings': {'properties': {'sku': {'type': 'long'},\n",
       "   'productID': {'type': 'integer', 'coerce': True},\n",
       "   'name': {'type': 'text',\n",
       "    'fields': {'keyword': {'type': 'keyword', 'ignore_above': 256}},\n",
       "    'analyzer': 'english'},\n",
       "   'type': {'type': 'text',\n",
       "    'fields': {'keyword': {'type': 'keyword', 'ignore_above': 256}}},\n",
       "   'regularPrice': {'type': 'float'},\n",
       "   'salePrice': {'type': 'float'},\n",
       "   'onSale': {'type': 'boolean'},\n",
       "   'salesRankShortTerm': {'type': 'integer'},\n",
       "   'salesRankMediumTerm': {'type': 'integer'},\n",
       "   'salesRankLongTerm': {'type': 'integer'},\n",
       "   'bestSellingRank': {'type': 'integer'},\n",
       "   'url': {'type': 'text',\n",
       "    'fields': {'keyword': {'type': 'keyword', 'ignore_above': 256}}},\n",
       "   'categoryPath': {'type': 'text',\n",
       "    'fields': {'keyword': {'type': 'keyword', 'ignore_above': 256}}},\n",
       "   'categoryPathIds': {'type': 'text',\n",
       "    'fields': {'keyword': {'type': 'keyword', 'ignore_above': 256}}},\n",
       "   'categoryLeaf': {'type': 'text',\n",
       "    'fields': {'keyword': {'type': 'keyword', 'ignore_above': 256}}},\n",
       "   'categoryPathCount': {'type': 'integer', 'coerce': True},\n",
       "   'customerReviewCount': {'type': 'integer', 'coerce': True},\n",
       "   'inStoreAvailability': {'type': 'boolean'},\n",
       "   'onlineAvailability': {'type': 'boolean'},\n",
       "   'releaseDate': {'type': 'date'},\n",
       "   'shortDescription': {'type': 'text',\n",
       "    'fields': {'keyword': {'type': 'keyword', 'ignore_above': 256}},\n",
       "    'analyzer': 'english'},\n",
       "   'class': {'type': 'text',\n",
       "    'fields': {'keyword': {'type': 'keyword', 'ignore_above': 256}}},\n",
       "   'department': {'type': 'text',\n",
       "    'fields': {'keyword': {'type': 'keyword', 'ignore_above': 256}}},\n",
       "   'description': {'type': 'text',\n",
       "    'fields': {'keyword': {'type': 'keyword', 'ignore_above': 256}}},\n",
       "   'classId': {'type': 'integer'},\n",
       "   'departmentId': {'type': 'integer', 'coerce': True},\n",
       "   'bestBuyItemId': {'type': 'integer', 'coerce': True},\n",
       "   'manufacturer': {'type': 'text',\n",
       "    'fields': {'keyword': {'type': 'keyword', 'ignore_above': 256}}},\n",
       "   'modelNumber': {'type': 'text',\n",
       "    'fields': {'keyword': {'type': 'keyword', 'ignore_above': 256}}},\n",
       "   'image': {'type': 'text',\n",
       "    'fields': {'keyword': {'type': 'keyword', 'ignore_above': 256}}},\n",
       "   'longDescription': {'type': 'text',\n",
       "    'fields': {'keyword': {'type': 'keyword', 'ignore_above': 256}},\n",
       "    'analyzer': 'english'},\n",
       "   'longDescriptionHtml': {'type': 'text',\n",
       "    'fields': {'keyword': {'type': 'keyword', 'ignore_above': 256}}},\n",
       "   'feature': {'type': 'text',\n",
       "    'fields': {'keyword': {'type': 'keyword', 'ignore_above': 256}}}}}}"
      ]
     },
     "execution_count": 63,
     "metadata": {},
     "output_type": "execute_result"
    }
   ],
   "source": [
    "mapping = get_mapping()\n",
    "mapping"
   ]
  },
  {
   "cell_type": "code",
   "execution_count": 113,
   "id": "6ce785b0-cd12-41da-bb81-537b51709bf4",
   "metadata": {},
   "outputs": [],
   "source": [
    "#client.indices.delete('bbuy_queries')"
   ]
  },
  {
   "cell_type": "code",
   "execution_count": 118,
   "id": "d9555708-1a69-459a-b955-fa40ccbf3c72",
   "metadata": {},
   "outputs": [
    {
     "name": "stdout",
     "output_type": "stream",
     "text": [
      "health status index                                     uuid                   pri rep docs.count docs.deleted store.size pri.store.size\n",
      "yellow open   full-load                                 yHVRCl33QxeTCal-WSWs-Q   1   1    1275077            0    850.1mb        850.1mb\n",
      "yellow open   search_fun_bulk                           IqX_TVi3QAyyyLCM4VJmYg   1   1          4            0      8.8kb          8.8kb\n",
      "yellow open   search_fun_revisited_custom_mappings      mUYsVGTGSOWQIumfCsW2aw   1   1          4            0     21.2kb         21.2kb\n",
      "green  open   opensearch_dashboards_sample_data_flights t72TeXP-RLGfPu2GO5q9kg   1   0      13059            0      5.7mb          5.7mb\n",
      "yellow open   bbuy_queries                              2q-9Ce5RSOuC3hBF290Znw   1   1    1865269            0    421.3mb        421.3mb\n",
      "green  open   .kibana_1                                 JnrGXHSsQvq9t9oOKrLRtw   1   0         60            0     41.3kb         41.3kb\n",
      "\n"
     ]
    }
   ],
   "source": [
    "print(client.cat.indices(params={'v':'true'}))"
   ]
  },
  {
   "cell_type": "code",
   "execution_count": 120,
   "id": "c7bb5c6a-9048-469a-81de-006d62a9d629",
   "metadata": {},
   "outputs": [
    {
     "data": {
      "text/plain": [
       "{'bbuy_queries': {'mappings': {'properties': {'@timestamp': {'type': 'date'},\n",
       "    '@version': {'type': 'text',\n",
       "     'fields': {'keyword': {'type': 'keyword', 'ignore_above': 256}}},\n",
       "    'category': {'type': 'text',\n",
       "     'fields': {'keyword': {'type': 'keyword', 'ignore_above': 256}}},\n",
       "    'click_time': {'type': 'date'},\n",
       "    'query': {'type': 'text',\n",
       "     'fields': {'keyword': {'type': 'keyword', 'ignore_above': 256},\n",
       "      'stemmed': {'type': 'text', 'analyzer': 'english'}}},\n",
       "    'query_time': {'type': 'date'},\n",
       "    'sku': {'type': 'text',\n",
       "     'fields': {'keyword': {'type': 'keyword', 'ignore_above': 256}}},\n",
       "    'user': {'type': 'text',\n",
       "     'fields': {'keyword': {'type': 'keyword', 'ignore_above': 256}}}}}}}"
      ]
     },
     "execution_count": 120,
     "metadata": {},
     "output_type": "execute_result"
    }
   ],
   "source": [
    "client.indices.get_mapping('bbuy_queries')\n",
    "#client.count(index='bbuy_queries')['count']"
   ]
  },
  {
   "cell_type": "markdown",
   "id": "95e15c09-0870-480e-a41f-bc280a1b6bdf",
   "metadata": {},
   "source": [
    "## Queries"
   ]
  },
  {
   "cell_type": "code",
   "execution_count": 125,
   "id": "28cd76b2-8703-4561-9175-308c7b3f4303",
   "metadata": {},
   "outputs": [],
   "source": [
    "index_name = 'bbuy_queries'\n",
    "def query(q: str, size: int, fields: list=['category', 'query']):\n",
    "    _query = {\n",
    "  'size': size,\n",
    "  'query': {\n",
    "    'multi_match': {\n",
    "      'query': q,\n",
    "      'fields': fields\n",
    "    }\n",
    "  }\n",
    "}\n",
    "    return _query"
   ]
  },
  {
   "cell_type": "code",
   "execution_count": 127,
   "id": "ec384c88-b592-4c52-8596-24f3d5c5575b",
   "metadata": {},
   "outputs": [],
   "source": [
    "def search(q: str, size: int=10, full: bool=False, fields: list=['name', 'shortDescription'] ):\n",
    "    resp = client.search(body = query(q, size=size, fields=fields), index = index_name)\n",
    "    if full:\n",
    "        return resp\n",
    "    else: \n",
    "        hits = resp['hits']['hits']\n",
    "        for ind, hit in enumerate(hits, 1):\n",
    "            for field in fields:\n",
    "                print(f'{ind}:  {field}:\\t\\t{hit[\"_source\"][field]}')\n",
    "        "
   ]
  },
  {
   "cell_type": "code",
   "execution_count": 133,
   "id": "3ce185a8-ec74-41cd-ab48-1b08580ca0ae",
   "metadata": {},
   "outputs": [
    {
     "name": "stdout",
     "output_type": "stream",
     "text": [
      "1:  query:\t\tCorona\n"
     ]
    }
   ],
   "source": [
    "search('corona', size=10, fields=['query'])"
   ]
  },
  {
   "cell_type": "code",
   "execution_count": null,
   "id": "3b3d1624-a7e3-4699-ae18-b90203e238f5",
   "metadata": {},
   "outputs": [],
   "source": []
  }
 ],
 "metadata": {
  "kernelspec": {
   "display_name": "Python 3 (ipykernel)",
   "language": "python",
   "name": "python3"
  },
  "language_info": {
   "codemirror_mode": {
    "name": "ipython",
    "version": 3
   },
   "file_extension": ".py",
   "mimetype": "text/x-python",
   "name": "python",
   "nbconvert_exporter": "python",
   "pygments_lexer": "ipython3",
   "version": "3.9.7"
  }
 },
 "nbformat": 4,
 "nbformat_minor": 5
}
